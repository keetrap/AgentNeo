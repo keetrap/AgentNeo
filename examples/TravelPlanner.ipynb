{
 "cells": [
  {
   "cell_type": "markdown",
   "metadata": {},
   "source": [
    "# Travel Agent Planner with AgentNeo Integration\n",
    "\n",
    "This Jupyter notebook demonstrates the integration of AgentNeo, a powerful tracing and monitoring tool, with a Travel Agent Planner system. AgentNeo provides seamless tracing capabilities for both function calls and AI model interactions, allowing for comprehensive analysis and debugging of complex systems."
   ]
  },
  {
   "cell_type": "markdown",
   "metadata": {},
   "source": [
    "\n",
    "# Setup and Imports\n",
    "First, let's import the necessary libraries and set up our environment."
   ]
  },
  {
   "cell_type": "code",
   "execution_count": 1,
   "metadata": {},
   "outputs": [],
   "source": [
    "import os\n",
    "import requests\n",
    "from dotenv import load_dotenv\n",
    "from litellm import completion\n",
    "import openai\n",
    "from openai import OpenAI"
   ]
  },
  {
   "cell_type": "code",
   "execution_count": 2,
   "metadata": {},
   "outputs": [],
   "source": [
    "# Load environment variables\n",
    "load_dotenv(\"enter your .env file path \")\n",
    "\n",
    "\n",
    "# Initialize OpenAI API\n",
    "openai.api_key = os.getenv(\"OPENAI_API_KEY\")\n",
    "\n"
   ]
  },
  {
   "cell_type": "code",
   "execution_count": 3,
   "metadata": {},
   "outputs": [
    {
     "name": "stdout",
     "output_type": "stream",
     "text": [
      "Project created successfully\n",
      "Project 'ai_travel_agent_demo1' found.\n",
      "Tracing Started.\n"
     ]
    }
   ],
   "source": [
    "# Initialize AgentNeo Package\n",
    "import os\n",
    "os.chdir('..')\n",
    "\n",
    "from agentneo import AgentNeo, Tracer, Evaluation,launch_dashboard\n",
    "# Initialize AgentNeo session\n",
    "# Create project\n",
    "neo_session = AgentNeo(session_name=\"test\")\n",
    "\n",
    "project_name = \"ai_travel_agent_demo1\"\n",
    "\n",
    "try:\n",
    "    neo_session.create_project(project_name=project_name)\n",
    "    print(\"Project created successfully\")\n",
    "except:\n",
    "    neo_session.connect_project(project_name=project_name)\n",
    "    print(\"Project connected successfully\")\n",
    "# Start tracing\n",
    "tracer = Tracer(session=neo_session)\n",
    "tracer.start()"
   ]
  },
  {
   "cell_type": "markdown",
   "metadata": {},
   "source": [
    "# Travel Agent Tools\n",
    "Now, let's define our Travel Agent Planner Tools with AgentNeo integration."
   ]
  },
  {
   "cell_type": "code",
   "execution_count": 4,
   "metadata": {},
   "outputs": [],
   "source": [
    "@tracer.trace_llm(name=\"llm_call\")\n",
    "def llm_call(prompt, max_tokens=512, model=\"gpt-3.5-turbo\"):\n",
    "    client = OpenAI(api_key=os.environ[\"OPENAI_API_KEY\"])\n",
    "\n",
    "    response = client.chat.completions.create(\n",
    "        model=model,\n",
    "        messages=[{\"role\": \"user\", \"content\": prompt}],\n",
    "        max_tokens=max_tokens,\n",
    "        temperature=0.7,\n",
    "    )\n",
    "\n",
    "    return response.choices[0].message.content.strip()\n",
    "\n",
    "\n",
    "# Tools outside agents\n",
    "@tracer.trace_tool(name=\"weather_tool\")\n",
    "def weather_tool(destination):\n",
    "\n",
    "    api_key = os.environ.get(\"OPENWEATHERMAP_API_KEY\")\n",
    "    base_url = \"http://api.openweathermap.org/data/2.5/weather\"\n",
    "\n",
    "    params = {\"q\": destination, \"appid\": api_key, \"units\": \"metric\"}\n",
    "\n",
    "    try:\n",
    "        response = requests.get(base_url, params=params)\n",
    "        response.raise_for_status()\n",
    "        data = response.json()\n",
    "\n",
    "        weather_description = data[\"weather\"][0][\"description\"]\n",
    "        temperature = data[\"main\"][\"temp\"]\n",
    "\n",
    "        return f\"{weather_description.capitalize()}, {temperature:.1f}°C\"\n",
    "    except requests.RequestException:\n",
    "        return \"Weather data not available.\"\n",
    "\n",
    "\n",
    "@tracer.trace_tool(name=\"currency_converter_tool\")\n",
    "def currency_converter_tool(amount, from_currency, to_currency):\n",
    "    api_key = os.environ.get(\"EXCHANGERATE_API_KEY\")\n",
    "    base_url = f\"https://v6.exchangerate-api.com/v6/{api_key}/pair/{from_currency}/{to_currency}\"\n",
    "\n",
    "    try:\n",
    "        response = requests.get(base_url)\n",
    "        response.raise_for_status()\n",
    "        data = response.json()\n",
    "\n",
    "        if data[\"result\"] == \"success\":\n",
    "            rate = data[\"conversion_rate\"]\n",
    "            return amount * rate\n",
    "        else:\n",
    "            return None\n",
    "    except requests.RequestException:\n",
    "        return None\n",
    "\n",
    "\n",
    "@tracer.trace_tool(name=\"flight_price_estimator_tool\")\n",
    "def flight_price_estimator_tool(origin, destination):\n",
    "    # This is a mock function. In a real scenario, you'd integrate with a flight API.\n",
    "    api_key = os.environ.get(\"FLIGHT_API_KEY\")\n",
    "    # Implement actual API call here\n",
    "    return f\"Estimated price from {origin} to {destination}: $500-$1000\"\n",
    "\n",
    "\n",
    "# Agent with persona\n",
    "@tracer.trace_agent(name=\"itinerary_agent\")\n",
    "class ItineraryAgent:\n",
    "    def __init__(self, persona=\"Itinerary Agent\"):\n",
    "        self.persona = persona\n",
    "\n",
    "    def plan_itinerary(self, user_preferences, duration=3):\n",
    "        itinerary_prompt = f\"\"\"\n",
    "You are a travel expert named {self.persona}.\n",
    "Based on the following user preferences, create a {duration}-day travel itinerary.\n",
    "\n",
    "User Preferences:\n",
    "{user_preferences}\n",
    "\n",
    "Itinerary:\n",
    "\"\"\"\n",
    "        return llm_call(itinerary_prompt, max_tokens=512)\n",
    "\n",
    "\n"
   ]
  },
  {
   "cell_type": "markdown",
   "metadata": {},
   "source": [
    "\n",
    "# Running the Analysis\n",
    "Now let's create a  main function for our Travel Agent Planner which recall all tools "
   ]
  },
  {
   "cell_type": "code",
   "execution_count": 5,
   "metadata": {},
   "outputs": [],
   "source": [
    "# Main function\n",
    "\n",
    "@tracer.trace_agent(name=\"travel_agent\")\n",
    "def travel_agent():\n",
    "    print(\"Welcome to the Personalized Travel Planner!\\n\")\n",
    "\n",
    "    # Get user input\n",
    "    user_input = input(\"Please describe your ideal vacation: \")\n",
    "\n",
    "    # Extract preferences\n",
    "    preferences_prompt = f\"\"\"\n",
    "Extract key travel preferences from the following user input:\n",
    "\"{user_input}\"\n",
    "\n",
    "Please provide the extracted information in this format:\n",
    "Destination:\n",
    "Activities:\n",
    "Budget:\n",
    "Duration (in days):\n",
    "\"\"\"\n",
    "    extracted_preferences = llm_call(preferences_prompt)\n",
    "    print(\"\\nExtracted Preferences:\")\n",
    "    print(extracted_preferences)\n",
    "\n",
    "    # Parse extracted preferences\n",
    "    preferences = {}\n",
    "    for line in extracted_preferences.split(\"\\n\"):\n",
    "        if \":\" in line:\n",
    "            key, value = line.split(\":\", 1)\n",
    "            preferences[key.strip()] = value.strip()\n",
    "\n",
    "    # Validate extracted preferences\n",
    "    required_keys = [\"Destination\", \"Activities\", \"Budget\", \"Duration (in days)\"]\n",
    "    if not all(key in preferences for key in required_keys):\n",
    "        print(\"\\nCould not extract all required preferences. Please try again.\")\n",
    "        return\n",
    "\n",
    "    # Fetch additional information\n",
    "    weather = weather_tool(preferences[\"Destination\"])\n",
    "    print(f\"\\nWeather in {preferences['Destination']}: {weather}\")\n",
    "\n",
    "    origin = input(\"Please enter your departure city: \")\n",
    "    flight_price = flight_price_estimator_tool(origin, preferences[\"Destination\"])\n",
    "    print(flight_price)\n",
    "\n",
    "    # Plan itinerary\n",
    "    itinerary_agent = ItineraryAgent()\n",
    "    itinerary = itinerary_agent.plan_itinerary(\n",
    "        extracted_preferences, int(preferences[\"Duration (in days)\"])\n",
    "    )\n",
    "    print(\"\\nPlanned Itinerary:\")\n",
    "    print(itinerary)\n",
    "\n",
    "    # Currency conversion\n",
    "    budget_amount = float(preferences[\"Budget\"].replace(\"$\", \"\").replace(\",\", \"\"))\n",
    "    converted_budget = currency_converter_tool(budget_amount, \"USD\", \"INR\")\n",
    "    if converted_budget:\n",
    "        print(f\"\\nBudget in INR: {converted_budget:.2f} INR\")\n",
    "    else:\n",
    "        print(\"\\nCurrency conversion not available.\")\n",
    "\n",
    "    # Generate travel summary\n",
    "    summary_prompt = f\"\"\"\n",
    "Summarize the following travel plan:\n",
    "\n",
    "Destination: {preferences['Destination']}\n",
    "Activities: {preferences['Activities']}\n",
    "Budget: {preferences['Budget']}\n",
    "Duration: {preferences['Duration (in days)']} days\n",
    "Itinerary: {itinerary}\n",
    "Weather: {weather}\n",
    "Flight Price: {flight_price}\n",
    "\n",
    "Travel Summary:\n",
    "\"\"\"\n",
    "    travel_summary = llm_call(summary_prompt, max_tokens=2048)\n",
    "    print(\"\\nTravel Summary:\")\n",
    "    print(travel_summary)"
   ]
  },
  {
   "cell_type": "code",
   "execution_count": 6,
   "metadata": {},
   "outputs": [
    {
     "name": "stdout",
     "output_type": "stream",
     "text": [
      "Welcome to the Personalized Travel Planner!\n",
      "\n"
     ]
    },
    {
     "name": "stderr",
     "output_type": "stream",
     "text": [
      "INFO:httpx:HTTP Request: POST https://api.openai.com/v1/chat/completions \"HTTP/1.1 200 OK\"\n"
     ]
    },
    {
     "name": "stdout",
     "output_type": "stream",
     "text": [
      "\n",
      "Extracted Preferences:\n",
      "Destination: Karela\n",
      "Activities: Nature\n",
      "Budget: $100\n",
      "Duration (in days): 10\n",
      "\n",
      "Weather in Karela: Weather data not available.\n",
      "Estimated price from goa to Karela: $500-$1000\n"
     ]
    },
    {
     "name": "stderr",
     "output_type": "stream",
     "text": [
      "INFO:httpx:HTTP Request: POST https://api.openai.com/v1/chat/completions \"HTTP/1.1 200 OK\"\n"
     ]
    },
    {
     "name": "stdout",
     "output_type": "stream",
     "text": [
      "\n",
      "Planned Itinerary:\n",
      "Day 1-2: Arrival in Karela\n",
      "- Check into a budget-friendly accommodation\n",
      "- Explore the natural beauty of Karela, such as lush forests, scenic waterfalls, and wildlife reserves\n",
      "\n",
      "Day 3-4: Nature Hike\n",
      "- Take a guided nature hike through the forests of Karela\n",
      "- Enjoy bird-watching and wildlife spotting\n",
      "\n",
      "Day 5-6: Beach Day\n",
      "- Visit the pristine beaches of Karela for a relaxing day by the sea\n",
      "- Try out water sports activities like snorkeling or kayaking\n",
      "\n",
      "Day 7-8: National Park Visit\n",
      "- Spend a day exploring a nearby national park to see more of Karela's wildlife and natural landscapes\n",
      "- Take a safari tour to spot animals like elephants, leopards, and deer\n",
      "\n",
      "Day 9-10: Cultural Experience\n",
      "- Visit local villages to learn about the culture and traditions of the Karela region\n",
      "- Sample traditional cuisine and participate in cultural activities like dance or music performances\n",
      "\n",
      "Overall, this itinerary offers a mix of nature, adventure, and cultural experiences within a budget-friendly framework for a 10-day trip to Karela.\n",
      "\n",
      "Currency conversion not available.\n"
     ]
    },
    {
     "name": "stderr",
     "output_type": "stream",
     "text": [
      "INFO:httpx:HTTP Request: POST https://api.openai.com/v1/chat/completions \"HTTP/1.1 200 OK\"\n",
      "DEBUG:agentneo.tracing.agent_tracer:Successfully updated and committed AgentCallModel with id 2\n",
      "DEBUG:agentneo.tracing.agent_tracer:Successfully updated and committed AgentCallModel with id 1\n"
     ]
    },
    {
     "name": "stdout",
     "output_type": "stream",
     "text": [
      "\n",
      "Travel Summary:\n",
      "Destination: Karela\n",
      "Activities: Nature hikes, beach day, national park visit, cultural experiences\n",
      "Budget: $100\n",
      "Duration: 10 days\n",
      "Itinerary: Arrival, explore natural beauty, nature hike, beach day, national park visit, cultural experiences\n",
      "Flight Price: Estimated $500-$1000 from Goa to Karela\n",
      "\n",
      "Overall, this travel plan offers a diverse range of activities in Karela within a budget of $100 for a 10-day trip.\n",
      "Tracing Completed.\n",
      "Data saved to the database and JSON file.\n",
      "\n"
     ]
    }
   ],
   "source": [
    "# Main function to run the travel agent\n",
    "def main():\n",
    "    travel_agent()\n",
    "\n",
    "# Ensure the script runs only when executed directly\n",
    "if __name__ == \"__main__\":\n",
    "    main()\n",
    "    tracer.stop()\n"
   ]
  },
  {
   "cell_type": "markdown",
   "metadata": {},
   "source": [
    "# Metrics Evaluation\n",
    "Supported Metrics\n",
    "Goal Decomposition Efficiency (goal_decomposition_efficiency)\n",
    "Goal Fulfillment Rate (goal_fulfillment_rate)\n",
    "Tool Call Correctness Rate (tool_call_correctness_rate)\n",
    "Tool Call Success Rate (tool_call_success_rate)"
   ]
  },
  {
   "cell_type": "code",
   "execution_count": 7,
   "metadata": {},
   "outputs": [],
   "source": [
    "# exe = Evaluation(session=neo_session, trace_id=tracer.trace_id)"
   ]
  },
  {
   "cell_type": "code",
   "execution_count": 8,
   "metadata": {},
   "outputs": [],
   "source": [
    "# # run a single metric\n",
    "# exe.evaluate(metric_list=['goal_decomposition_efficiency', \n",
    "#                          'goal_fulfillment_rate', \n",
    "#                          'tool_call_correctness_rate', \n",
    "#                          'tool_call_success_rate'])"
   ]
  },
  {
   "cell_type": "code",
   "execution_count": 9,
   "metadata": {},
   "outputs": [],
   "source": [
    "# #print metric result\n",
    "# metric_results = exe.get_results()\n",
    "# metric_results"
   ]
  },
  {
   "cell_type": "code",
   "execution_count": 10,
   "metadata": {},
   "outputs": [
    {
     "name": "stderr",
     "output_type": "stream",
     "text": [
      "INFO:root:Port 3000 is busy. Finding an available port...\n",
      "INFO:root:Using port 3018\n",
      "INFO:root:Dashboard process started successfully\n",
      "INFO:root:Dashboard launched successfully. Access it at: http://localhost:3018\n"
     ]
    }
   ],
   "source": [
    "neo_session.launch_dashboard()"
   ]
  },
  {
   "cell_type": "markdown",
   "metadata": {},
   "source": [
    "### get the trace data"
   ]
  },
  {
   "cell_type": "code",
   "execution_count": 11,
   "metadata": {},
   "outputs": [
    {
     "name": "stdout",
     "output_type": "stream",
     "text": [
      "{\n",
      "  \"agent_calls\": [],\n",
      "  \"duration\": 5.267256,\n",
      "  \"end_time\": \"Tue, 29 Oct 2024 14:01:20 GMT\",\n",
      "  \"errors\": [],\n",
      "  \"id\": 2,\n",
      "  \"llm_calls\": [\n",
      "    {\n",
      "      \"cost\": \"{\\\"input\\\": 1.65e-05, \\\"output\\\": 1.2e-05, \\\"reasoning\\\": 0}\",\n",
      "      \"duration\": 3.358483,\n",
      "      \"end_time\": \"Tue, 29 Oct 2024 14:01:19 GMT\",\n",
      "      \"id\": 5,\n",
      "      \"input_prompt\": \"[{'role': 'user', 'content': 'spell- 20'}]\",\n",
      "      \"memory_used\": 0,\n",
      "      \"model\": \"gpt-3.5-turbo-0125\",\n",
      "      \"name\": \"llm_call\",\n",
      "      \"output\": \"T-W-E-N-T-Y\",\n",
      "      \"start_time\": \"Tue, 29 Oct 2024 14:01:16 GMT\",\n",
      "      \"token_usage\": \"{\\\"input\\\": 11, \\\"completion\\\": 6, \\\"reasoning\\\": 0}\",\n",
      "      \"tool_call\": null\n",
      "    },\n",
      "    {\n",
      "      \"cost\": \"{\\\"input\\\": 0.00033, \\\"output\\\": 0.00018, \\\"reasoning\\\": 0}\",\n",
      "      \"duration\": 0.91911,\n",
      "      \"end_time\": \"Tue, 29 Oct 2024 14:01:16 GMT\",\n",
      "      \"id\": 4,\n",
      "      \"input_prompt\": \"[{'role': 'user', 'content': 'spell- 10'}]\",\n",
      "      \"memory_used\": 557056,\n",
      "      \"model\": \"gpt-4-0613\",\n",
      "      \"name\": \"llm_call\",\n",
      "      \"output\": \"T-E-N\",\n",
      "      \"start_time\": \"Tue, 29 Oct 2024 14:01:15 GMT\",\n",
      "      \"token_usage\": \"{\\\"input\\\": 11, \\\"completion\\\": 3, \\\"reasoning\\\": 0}\",\n",
      "      \"tool_call\": null\n",
      "    },\n",
      "    {\n",
      "      \"cost\": \"{\\\"input\\\": 5.5e-05, \\\"output\\\": 0.000105, \\\"reasoning\\\": 0}\",\n",
      "      \"duration\": 0.859258,\n",
      "      \"end_time\": \"Tue, 29 Oct 2024 14:01:20 GMT\",\n",
      "      \"id\": 6,\n",
      "      \"input_prompt\": \"[{'role': 'user', 'content': 'spell- 10'}]\",\n",
      "      \"memory_used\": 0,\n",
      "      \"model\": \"gpt-4o-2024-08-06\",\n",
      "      \"name\": \"llm_call\",\n",
      "      \"output\": \"The correct spelling is \\\"ten.\\\"\",\n",
      "      \"start_time\": \"Tue, 29 Oct 2024 14:01:19 GMT\",\n",
      "      \"token_usage\": \"{\\\"input\\\": 11, \\\"completion\\\": 7, \\\"reasoning\\\": 0}\",\n",
      "      \"tool_call\": null\n",
      "    }\n",
      "  ],\n",
      "  \"metrics\": [],\n",
      "  \"project_id\": 1,\n",
      "  \"start_time\": \"Tue, 29 Oct 2024 14:01:15 GMT\",\n",
      "  \"system_info\": {\n",
      "    \"cpu_info\": \"Apple M1 Pro\",\n",
      "    \"disk_info\": \"{\\\"total\\\": 460.4317207336426, \\\"available\\\": 149.0474739074707}\",\n",
      "    \"gpu_info\": null,\n",
      "    \"installed_packages\": \"{\\\"btrees\\\": \\\"6.1\\\", \\\"brotli\\\": \\\"1.0.9\\\", \\\"deprecated\\\": \\\"1.2.14\\\", \\\"flaml\\\": \\\"2.3.1\\\", \\\"faker\\\": \\\"25.9.2\\\", \\\"flask-caching\\\": \\\"2.3.0\\\", \\\"flask-cors\\\": \\\"4.0.1\\\", \\\"gputil\\\": \\\"1.4.0\\\", \\\"mako\\\": \\\"1.3.5\\\", \\\"markupsafe\\\": \\\"2.1.5\\\", \\\"naked\\\": \\\"0.1.32\\\", \\\"pyjwt\\\": \\\"2.9.0\\\", \\\"pypika\\\": \\\"0.48.9\\\", \\\"pysocks\\\": \\\"1.7.1\\\", \\\"pyyaml\\\": \\\"6.0.2\\\", \\\"sqlalchemy\\\": \\\"2.0.35\\\", \\\"zconfig\\\": \\\"4.1\\\", \\\"zodb\\\": \\\"6.0\\\", \\\"accelerate\\\": \\\"0.31.0\\\", \\\"agentops\\\": \\\"0.3.14\\\", \\\"aiofiles\\\": \\\"23.2.1\\\", \\\"aiohappyeyeballs\\\": \\\"2.4.0\\\", \\\"aiohttp\\\": \\\"3.10.5\\\", \\\"aiosignal\\\": \\\"1.3.1\\\", \\\"alembic\\\": \\\"1.13.3\\\", \\\"alt-profanity-check\\\": \\\"1.5.1\\\", \\\"anaconda-anon-usage\\\": \\\"0.4.4\\\", \\\"annotated-types\\\": \\\"0.7.0\\\", \\\"anthropic\\\": \\\"0.34.1\\\", \\\"antiorm\\\": \\\"1.2.1\\\", \\\"anyio\\\": \\\"4.4.0\\\", \\\"appdirs\\\": \\\"1.4.4\\\", \\\"appnope\\\": \\\"0.1.4\\\", \\\"archspec\\\": \\\"0.2.3\\\", \\\"arrow\\\": \\\"1.3.0\\\", \\\"arxiv\\\": \\\"2.1.3\\\", \\\"asgiref\\\": \\\"3.8.1\\\", \\\"asttokens\\\": \\\"2.4.1\\\", \\\"attrs\\\": \\\"24.2.0\\\", \\\"auth0-python\\\": \\\"4.7.2\\\", \\\"autogen\\\": \\\"0.3.1\\\", \\\"autogen-agentchat\\\": \\\"0.2.36\\\", \\\"azure-core\\\": \\\"1.30.2\\\", \\\"backoff\\\": \\\"2.2.1\\\", \\\"backports.functools-lru-cache\\\": \\\"2.0.0\\\", \\\"bcrypt\\\": \\\"4.2.0\\\", \\\"beautifulsoup4\\\": \\\"4.12.3\\\", \\\"blinker\\\": \\\"1.8.2\\\", \\\"blis\\\": \\\"0.7.11\\\", \\\"boltons\\\": \\\"23.0.0\\\", \\\"boto3\\\": \\\"1.34.153\\\", \\\"botocore\\\": \\\"1.34.153\\\", \\\"build\\\": \\\"1.2.1\\\", \\\"cachelib\\\": \\\"0.9.0\\\", \\\"cachetools\\\": \\\"5.5.0\\\", \\\"catalogue\\\": \\\"2.0.10\\\", \\\"certifi\\\": \\\"2024.8.30\\\", \\\"cffi\\\": \\\"1.16.0\\\", \\\"charset-normalizer\\\": \\\"3.3.2\\\", \\\"chroma-hnswlib\\\": \\\"0.7.3\\\", \\\"chromadb\\\": \\\"0.4.24\\\", \\\"click\\\": \\\"8.1.7\\\", \\\"cloudpathlib\\\": \\\"0.18.1\\\", \\\"cohere\\\": \\\"5.10.0\\\", \\\"colorama\\\": \\\"0.4.6\\\", \\\"coloredlogs\\\": \\\"15.0.1\\\", \\\"colorlog\\\": \\\"6.8.2\\\", \\\"comm\\\": \\\"0.2.2\\\", \\\"conda\\\": \\\"24.7.1\\\", \\\"conda-content-trust\\\": \\\"0.2.0\\\", \\\"conda-libmamba-solver\\\": \\\"24.1.0\\\", \\\"conda-package-handling\\\": \\\"2.3.0\\\", \\\"conda-package-streaming\\\": \\\"0.10.0\\\", \\\"confection\\\": \\\"0.1.5\\\", \\\"contourpy\\\": \\\"1.2.1\\\", \\\"crewai\\\": \\\"0.74.2\\\", \\\"crewai-tools\\\": \\\"0.13.2\\\", \\\"cryptography\\\": \\\"43.0.3\\\", \\\"curated-tokenizers\\\": \\\"0.0.9\\\", \\\"curated-transformers\\\": \\\"0.1.1\\\", \\\"cycler\\\": \\\"0.12.1\\\", \\\"cymem\\\": \\\"2.0.8\\\", \\\"dataclasses-json\\\": \\\"0.6.7\\\", \\\"datasets\\\": \\\"2.21.0\\\", \\\"db\\\": \\\"0.1.1\\\", \\\"db-sqlite3\\\": \\\"0.0.1\\\", \\\"debugpy\\\": \\\"1.6.7\\\", \\\"decorator\\\": \\\"5.1.1\\\", \\\"defusedxml\\\": \\\"0.7.1\\\", \\\"deprecation\\\": \\\"2.1.0\\\", \\\"detect-secrets\\\": \\\"1.5.0\\\", \\\"detoxify\\\": \\\"0.5.2\\\", \\\"dill\\\": \\\"0.3.8\\\", \\\"diskcache\\\": \\\"5.6.3\\\", \\\"distro\\\": \\\"1.9.0\\\", \\\"docker\\\": \\\"7.1.0\\\", \\\"docstring-parser\\\": \\\"0.16\\\", \\\"docx2txt\\\": \\\"0.8\\\", \\\"embedchain\\\": \\\"0.1.123\\\", \\\"en-core-web-lg\\\": \\\"3.7.1\\\", \\\"en-core-web-sm\\\": \\\"3.7.1\\\", \\\"en-core-web-trf\\\": \\\"3.7.3\\\", \\\"evaluate\\\": \\\"0.4.2\\\", \\\"exceptiongroup\\\": \\\"1.2.2\\\", \\\"executing\\\": \\\"2.0.1\\\", \\\"fast-langdetect\\\": \\\"0.2.1\\\", \\\"fastapi\\\": \\\"0.112.2\\\", \\\"fastavro\\\": \\\"1.9.7\\\", \\\"fasttext\\\": \\\"0.9.3\\\", \\\"fasttext-wheel\\\": \\\"0.9.2\\\", \\\"feedparser\\\": \\\"6.0.11\\\", \\\"ffmpy\\\": \\\"0.4.0\\\", \\\"filelock\\\": \\\"3.15.4\\\", \\\"flask\\\": \\\"3.0.3\\\", \\\"flask-sqlalchemy\\\": \\\"3.1.1\\\", \\\"flatbuffers\\\": \\\"24.3.25\\\", \\\"fonttools\\\": \\\"4.53.1\\\", \\\"fqdn\\\": \\\"1.5.1\\\", \\\"frozendict\\\": \\\"2.4.2\\\", \\\"frozenlist\\\": \\\"1.4.1\\\", \\\"fsspec\\\": \\\"2024.6.1\\\", \\\"google-api-core\\\": \\\"2.20.0\\\", \\\"google-auth\\\": \\\"2.34.0\\\", \\\"google-cloud-aiplatform\\\": \\\"1.68.0\\\", \\\"google-cloud-bigquery\\\": \\\"3.25.0\\\", \\\"google-cloud-core\\\": \\\"2.4.1\\\", \\\"google-cloud-resource-manager\\\": \\\"1.12.5\\\", \\\"google-cloud-storage\\\": \\\"2.18.2\\\", \\\"google-crc32c\\\": \\\"1.6.0\\\", \\\"google-resumable-media\\\": \\\"2.7.2\\\", \\\"googleapis-common-protos\\\": \\\"1.63.2\\\", \\\"gptcache\\\": \\\"0.1.44\\\", \\\"gradio\\\": \\\"4.42.0\\\", \\\"gradio-client\\\": \\\"1.3.0\\\", \\\"greenlet\\\": \\\"3.0.3\\\", \\\"griffe\\\": \\\"0.36.9\\\", \\\"grpc-google-iam-v1\\\": \\\"0.13.1\\\", \\\"grpcio\\\": \\\"1.65.4\\\", \\\"grpcio-status\\\": \\\"1.62.3\\\", \\\"grpcio-tools\\\": \\\"1.62.3\\\", \\\"guardrails-ai\\\": \\\"0.5.3\\\", \\\"guardrails-api-client\\\": \\\"0.3.9\\\", \\\"h11\\\": \\\"0.14.0\\\", \\\"h2\\\": \\\"4.1.0\\\", \\\"hpack\\\": \\\"4.0.0\\\", \\\"httpcore\\\": \\\"1.0.5\\\", \\\"httptools\\\": \\\"0.6.1\\\", \\\"httpx\\\": \\\"0.27.0\\\", \\\"httpx-sse\\\": \\\"0.4.0\\\", \\\"huggingface-hub\\\": \\\"0.25.1\\\", \\\"humanfriendly\\\": \\\"10.0\\\", \\\"hyperframe\\\": \\\"6.0.1\\\", \\\"idna\\\": \\\"3.7\\\", \\\"importlib-metadata\\\": \\\"7.1.0\\\", \\\"importlib-resources\\\": \\\"6.4.4\\\", \\\"indic-transliteration\\\": \\\"2.3.61\\\", \\\"iniconfig\\\": \\\"2.0.0\\\", \\\"instructor\\\": \\\"1.4.1\\\", \\\"ipykernel\\\": \\\"6.29.5\\\", \\\"ipython\\\": \\\"8.26.0\\\", \\\"iso-language-codes\\\": \\\"1.1.0\\\", \\\"isoduration\\\": \\\"20.11.0\\\", \\\"itsdangerous\\\": \\\"2.2.0\\\", \\\"jedi\\\": \\\"0.19.1\\\", \\\"jinja2\\\": \\\"3.1.4\\\", \\\"jiter\\\": \\\"0.5.0\\\", \\\"jmespath\\\": \\\"1.0.1\\\", \\\"joblib\\\": \\\"1.4.2\\\", \\\"json-repair\\\": \\\"0.29.5\\\", \\\"jsonpatch\\\": \\\"1.33\\\", \\\"jsonpickle\\\": \\\"3.3.0\\\", \\\"jsonpointer\\\": \\\"2.1\\\", \\\"jsonref\\\": \\\"1.1.0\\\", \\\"jsonschema\\\": \\\"4.23.0\\\", \\\"jsonschema-specifications\\\": \\\"2023.12.1\\\", \\\"jupyter-client\\\": \\\"8.6.2\\\", \\\"jupyter-core\\\": \\\"5.7.2\\\", \\\"kiwisolver\\\": \\\"1.4.5\\\", \\\"kubernetes\\\": \\\"30.1.0\\\", \\\"lancedb\\\": \\\"0.14.0\\\", \\\"langchain\\\": \\\"0.2.16\\\", \\\"langchain-anthropic\\\": \\\"0.1.23\\\", \\\"langchain-cohere\\\": \\\"0.3.1\\\", \\\"langchain-community\\\": \\\"0.3.3\\\", \\\"langchain-core\\\": \\\"0.2.41\\\", \\\"langchain-experimental\\\": \\\"0.3.2\\\", \\\"langchain-openai\\\": \\\"0.2.3\\\", \\\"langchain-text-splitters\\\": \\\"0.2.4\\\", \\\"langchainhub\\\": \\\"0.1.21\\\", \\\"langcodes\\\": \\\"3.4.0\\\", \\\"langdetect\\\": \\\"1.0.9\\\", \\\"langgraph\\\": \\\"0.2.39\\\", \\\"langgraph-checkpoint\\\": \\\"2.0.1\\\", \\\"langgraph-sdk\\\": \\\"0.1.33\\\", \\\"langsmith\\\": \\\"0.1.136\\\", \\\"language-data\\\": \\\"1.2.0\\\", \\\"libmambapy\\\": \\\"1.5.8\\\", \\\"lightning-utilities\\\": \\\"0.11.6\\\", \\\"litellm\\\": \\\"1.49.7\\\", \\\"loguru\\\": \\\"0.7.2\\\", \\\"lxml\\\": \\\"4.9.4\\\", \\\"marisa-trie\\\": \\\"1.2.0\\\", \\\"markdown-it-py\\\": \\\"3.0.0\\\", \\\"marshmallow\\\": \\\"3.22.0\\\", \\\"matplotlib\\\": \\\"3.9.2\\\", \\\"matplotlib-inline\\\": \\\"0.1.7\\\", \\\"mdurl\\\": \\\"0.1.2\\\", \\\"mem0ai\\\": \\\"0.1.22\\\", \\\"menuinst\\\": \\\"2.1.1\\\", \\\"mmh3\\\": \\\"4.1.0\\\", \\\"monotonic\\\": \\\"1.6\\\", \\\"mpmath\\\": \\\"1.3.0\\\", \\\"msgpack\\\": \\\"1.1.0\\\", \\\"multidict\\\": \\\"6.0.5\\\", \\\"multiprocess\\\": \\\"0.70.16\\\", \\\"murmurhash\\\": \\\"1.0.10\\\", \\\"mypy-extensions\\\": \\\"1.0.0\\\", \\\"neo4j\\\": \\\"5.25.0\\\", \\\"nest-asyncio\\\": \\\"1.6.0\\\", \\\"networkx\\\": \\\"3.3\\\", \\\"nltk\\\": \\\"3.8.1\\\", \\\"nodeenv\\\": \\\"1.9.1\\\", \\\"numpy\\\": \\\"1.26.4\\\", \\\"oauthlib\\\": \\\"3.2.2\\\", \\\"onnxruntime\\\": \\\"1.19.0\\\", \\\"openai\\\": \\\"1.51.2\\\", \\\"opentelemetry-api\\\": \\\"1.26.0\\\", \\\"opentelemetry-exporter-otlp-proto-common\\\": \\\"1.26.0\\\", \\\"opentelemetry-exporter-otlp-proto-grpc\\\": \\\"1.26.0\\\", \\\"opentelemetry-exporter-otlp-proto-http\\\": \\\"1.26.0\\\", \\\"opentelemetry-instrumentation\\\": \\\"0.47b0\\\", \\\"opentelemetry-instrumentation-asgi\\\": \\\"0.47b0\\\", \\\"opentelemetry-instrumentation-fastapi\\\": \\\"0.47b0\\\", \\\"opentelemetry-instrumentation-langchain\\\": \\\"0.24.0\\\", \\\"opentelemetry-instrumentation-openai\\\": \\\"0.24.0\\\", \\\"opentelemetry-proto\\\": \\\"1.26.0\\\", \\\"opentelemetry-sdk\\\": \\\"1.26.0\\\", \\\"opentelemetry-semantic-conventions\\\": \\\"0.47b0\\\", \\\"opentelemetry-semantic-conventions-ai\\\": \\\"0.3.3\\\", \\\"opentelemetry-util-http\\\": \\\"0.47b0\\\", \\\"optimum\\\": \\\"1.21.4\\\", \\\"orjson\\\": \\\"3.10.7\\\", \\\"outcome\\\": \\\"1.3.0.post0\\\", \\\"overrides\\\": \\\"7.7.0\\\", \\\"packaging\\\": \\\"23.2\\\", \\\"pandas\\\": \\\"2.2.3\\\", \\\"parameterized\\\": \\\"0.9.0\\\", \\\"parso\\\": \\\"0.8.4\\\", \\\"persistent\\\": \\\"6.1\\\", \\\"pexpect\\\": \\\"4.9.0\\\", \\\"phonenumbers\\\": \\\"8.13.44\\\", \\\"pickleshare\\\": \\\"0.7.5\\\", \\\"pillow\\\": \\\"10.4.0\\\", \\\"pinecone-client\\\": \\\"3.2.2\\\", \\\"pip\\\": \\\"24.0\\\", \\\"platformdirs\\\": \\\"3.10.0\\\", \\\"plotly\\\": \\\"5.23.0\\\", \\\"pluggy\\\": \\\"1.5.0\\\", \\\"portalocker\\\": \\\"2.10.1\\\", \\\"posthog\\\": \\\"3.6.0\\\", \\\"preshed\\\": \\\"3.0.9\\\", \\\"presidio-analyzer\\\": \\\"2.2.355\\\", \\\"presidio-anonymizer\\\": \\\"2.2.355\\\", \\\"prompt-toolkit\\\": \\\"3.0.47\\\", \\\"proto-plus\\\": \\\"1.24.0\\\", \\\"protobuf\\\": \\\"4.25.4\\\", \\\"psutil\\\": \\\"6.0.0\\\", \\\"ptyprocess\\\": \\\"0.7.0\\\", \\\"pulsar-client\\\": \\\"3.5.0\\\", \\\"pure-eval\\\": \\\"0.2.3\\\", \\\"py\\\": \\\"1.11.0\\\", \\\"py-cpuinfo\\\": \\\"9.0.0\\\", \\\"pyarrow\\\": \\\"17.0.0\\\", \\\"pyasn1\\\": \\\"0.6.0\\\", \\\"pyasn1-modules\\\": \\\"0.4.0\\\", \\\"pybind11\\\": \\\"2.13.5\\\", \\\"pycosat\\\": \\\"0.6.6\\\", \\\"pycparser\\\": \\\"2.21\\\", \\\"pycryptodome\\\": \\\"3.20.0\\\", \\\"pydantic\\\": \\\"2.8.2\\\", \\\"pydantic-core\\\": \\\"2.20.1\\\", \\\"pydantic-settings\\\": \\\"2.6.0\\\", \\\"pydash\\\": \\\"7.0.7\\\", \\\"pydub\\\": \\\"0.25.1\\\", \\\"pygments\\\": \\\"2.18.0\\\", \\\"pylance\\\": \\\"0.18.2\\\", \\\"pyparsing\\\": \\\"3.1.2\\\", \\\"pypdf\\\": \\\"5.0.1\\\", \\\"pypdfium2\\\": \\\"4.30.0\\\", \\\"pyproject-hooks\\\": \\\"1.1.0\\\", \\\"pyright\\\": \\\"1.1.385\\\", \\\"pysbd\\\": \\\"0.3.4\\\", \\\"pytest\\\": \\\"8.3.2\\\", \\\"python-dateutil\\\": \\\"2.9.0\\\", \\\"python-dotenv\\\": \\\"1.0.1\\\", \\\"python-multipart\\\": \\\"0.0.9\\\", \\\"pytorch-lightning\\\": \\\"2.3.3\\\", \\\"pytube\\\": \\\"15.0.0\\\", \\\"pytz\\\": \\\"2024.1\\\", \\\"pyvis\\\": \\\"0.3.2\\\", \\\"pyzmq\\\": \\\"25.1.1\\\", \\\"qdrant-client\\\": \\\"1.11.3\\\", \\\"rank-bm25\\\": \\\"0.2.2\\\", \\\"rebuff\\\": \\\"0.0.0\\\", \\\"refchecker\\\": \\\"0.2.2\\\", \\\"referencing\\\": \\\"0.35.1\\\", \\\"regex\\\": \\\"2024.9.11\\\", \\\"requests\\\": \\\"2.32.3\\\", \\\"requests-file\\\": \\\"2.1.0\\\", \\\"requests-oauthlib\\\": \\\"2.0.0\\\", \\\"requests-toolbelt\\\": \\\"1.0.0\\\", \\\"retry\\\": \\\"0.9.2\\\", \\\"rfc3339-validator\\\": \\\"0.1.4\\\", \\\"rfc3987\\\": \\\"1.3.8\\\", \\\"rich\\\": \\\"13.7.1\\\", \\\"robust-downloader\\\": \\\"0.0.2\\\", \\\"roman\\\": \\\"4.2\\\", \\\"rpds-py\\\": \\\"0.20.0\\\", \\\"rsa\\\": \\\"4.9\\\", \\\"rstr\\\": \\\"3.2.2\\\", \\\"ruamel.yaml\\\": \\\"0.17.21\\\", \\\"ruff\\\": \\\"0.6.3\\\", \\\"s3transfer\\\": \\\"0.10.2\\\", \\\"safetensors\\\": \\\"0.4.3\\\", \\\"schema\\\": \\\"0.7.7\\\", \\\"scikit-learn\\\": \\\"1.5.1\\\", \\\"scipy\\\": \\\"1.14.0\\\", \\\"seaborn\\\": \\\"0.13.2\\\", \\\"selenium\\\": \\\"4.25.0\\\", \\\"semantic-version\\\": \\\"2.10.0\\\", \\\"sentence-transformers\\\": \\\"3.0.1\\\", \\\"sentencepiece\\\": \\\"0.2.0\\\", \\\"seqeval\\\": \\\"1.2.2\\\", \\\"setuptools\\\": \\\"72.1.0\\\", \\\"sgmllib3k\\\": \\\"1.0.0\\\", \\\"shapely\\\": \\\"2.0.6\\\", \\\"shellescape\\\": \\\"3.8.1\\\", \\\"shellingham\\\": \\\"1.5.4\\\", \\\"six\\\": \\\"1.16.0\\\", \\\"smart-open\\\": \\\"7.0.4\\\", \\\"sniffio\\\": \\\"1.3.1\\\", \\\"sortedcontainers\\\": \\\"2.4.0\\\", \\\"soupsieve\\\": \\\"2.5\\\", \\\"spacy\\\": \\\"3.7.5\\\", \\\"spacy-curated-transformers\\\": \\\"0.2.2\\\", \\\"spacy-legacy\\\": \\\"3.0.12\\\", \\\"spacy-loggers\\\": \\\"1.0.5\\\", \\\"span-marker\\\": \\\"1.5.0\\\", \\\"sqlglot\\\": \\\"25.9.0\\\", \\\"sqlparse\\\": \\\"0.5.1\\\", \\\"sqlvalidator\\\": \\\"0.0.20\\\", \\\"srsly\\\": \\\"2.4.8\\\", \\\"stack-data\\\": \\\"0.6.2\\\", \\\"starlette\\\": \\\"0.38.2\\\", \\\"structlog\\\": \\\"24.4.0\\\", \\\"sympy\\\": \\\"1.13.1\\\", \\\"tabulate\\\": \\\"0.9.0\\\", \\\"tavily-python\\\": \\\"0.5.0\\\", \\\"tenacity\\\": \\\"8.5.0\\\", \\\"termcolor\\\": \\\"2.4.0\\\", \\\"textblob\\\": \\\"0.18.0.post0\\\", \\\"thinc\\\": \\\"8.2.5\\\", \\\"threadpoolctl\\\": \\\"3.5.0\\\", \\\"tiktoken\\\": \\\"0.7.0\\\", \\\"tldextract\\\": \\\"5.1.2\\\", \\\"tokenizers\\\": \\\"0.19.1\\\", \\\"toml\\\": \\\"0.10.2\\\", \\\"tomli-w\\\": \\\"1.1.0\\\", \\\"tomlkit\\\": \\\"0.12.0\\\", \\\"torch\\\": \\\"2.4.0\\\", \\\"torchmetrics\\\": \\\"1.4.1\\\", \\\"tornado\\\": \\\"6.4.1\\\", \\\"tqdm\\\": \\\"4.66.5\\\", \\\"traitlets\\\": \\\"5.14.3\\\", \\\"transaction\\\": \\\"5.0\\\", \\\"transformers\\\": \\\"4.44.2\\\", \\\"trio\\\": \\\"0.27.0\\\", \\\"trio-websocket\\\": \\\"0.11.1\\\", \\\"truststore\\\": \\\"0.8.0\\\", \\\"typer\\\": \\\"0.12.3\\\", \\\"types-python-dateutil\\\": \\\"2.9.0.20240316\\\", \\\"types-requests\\\": \\\"2.32.0.20240712\\\", \\\"typing-extensions\\\": \\\"4.12.2\\\", \\\"typing-inspect\\\": \\\"0.9.0\\\", \\\"tzdata\\\": \\\"2024.1\\\", \\\"uri-template\\\": \\\"1.3.0\\\", \\\"urllib3\\\": \\\"2.2.2\\\", \\\"uv\\\": \\\"0.4.25\\\", \\\"uvicorn\\\": \\\"0.30.6\\\", \\\"uvloop\\\": \\\"0.20.0\\\", \\\"vadersentiment\\\": \\\"3.3.2\\\", \\\"waitress\\\": \\\"2.1.2\\\", \\\"wasabi\\\": \\\"1.1.3\\\", \\\"watchfiles\\\": \\\"0.24.0\\\", \\\"wcwidth\\\": \\\"0.2.13\\\", \\\"weasel\\\": \\\"0.4.1\\\", \\\"webcolors\\\": \\\"24.6.0\\\", \\\"websocket-client\\\": \\\"1.8.0\\\", \\\"websockets\\\": \\\"12.0\\\", \\\"werkzeug\\\": \\\"3.0.4\\\", \\\"wheel\\\": \\\"0.43.0\\\", \\\"wrapt\\\": \\\"1.16.0\\\", \\\"wsproto\\\": \\\"1.2.0\\\", \\\"xxhash\\\": \\\"3.5.0\\\", \\\"yarl\\\": \\\"1.9.4\\\", \\\"zc.lockfile\\\": \\\"3.0.post1\\\", \\\"zettasql\\\": \\\"1.0.0\\\", \\\"zipp\\\": \\\"3.20.0\\\", \\\"zodbpickle\\\": \\\"4.1.1\\\", \\\"zope.deferredimport\\\": \\\"5.0\\\", \\\"zope.interface\\\": \\\"7.1.0\\\", \\\"zope.proxy\\\": \\\"6.1\\\", \\\"zstandard\\\": \\\"0.22.0\\\", \\\"autocommand\\\": \\\"2.2.2\\\", \\\"backports.tarfile\\\": \\\"1.2.0\\\", \\\"inflect\\\": \\\"7.3.1\\\", \\\"jaraco.context\\\": \\\"5.3.0\\\", \\\"jaraco.functools\\\": \\\"4.0.1\\\", \\\"jaraco.text\\\": \\\"3.12.1\\\", \\\"more-itertools\\\": \\\"10.3.0\\\", \\\"ordered-set\\\": \\\"4.1.0\\\", \\\"tomli\\\": \\\"2.0.1\\\", \\\"typeguard\\\": \\\"4.3.0\\\"}\",\n",
      "    \"memory_total\": 16.0,\n",
      "    \"os_name\": \"Darwin\",\n",
      "    \"os_version\": \"14.5\",\n",
      "    \"python_version\": \"3.12.2\"\n",
      "  },\n",
      "  \"tool_calls\": [],\n",
      "  \"user_interactions\": []\n",
      "}\n"
     ]
    }
   ],
   "source": [
    "import requests\n",
    "import json\n",
    "\n",
    "trace_id = tracer.trace_id \n",
    "port = 2020 # port no of the falsk server\n",
    "response = requests.get(f\"http://localhost:{port}/api/analysis_traces/{trace_id}\")\n",
    "\n",
    "if response.status_code == 200:\n",
    "    trace_data = response.json()\n",
    "    print(json.dumps(trace_data, indent=2))\n",
    "else:\n",
    "    print(f\"Error: {response.status_code}\")\n",
    "    print(response.text)"
   ]
  },
  {
   "cell_type": "code",
   "execution_count": null,
   "metadata": {},
   "outputs": [],
   "source": []
  }
 ],
 "metadata": {
  "kernelspec": {
   "display_name": "Python 3",
   "language": "python",
   "name": "python3"
  },
  "language_info": {
   "codemirror_mode": {
    "name": "ipython",
    "version": 3
   },
   "file_extension": ".py",
   "mimetype": "text/x-python",
   "name": "python",
   "nbconvert_exporter": "python",
   "pygments_lexer": "ipython3",
   "version": "3.12.2"
  }
 },
 "nbformat": 4,
 "nbformat_minor": 2
}
